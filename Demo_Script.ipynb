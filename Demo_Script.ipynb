{
  "nbformat": 4,
  "nbformat_minor": 0,
  "metadata": {
    "colab": {
      "provenance": [],
      "authorship_tag": "ABX9TyO2RlblFcpDdMr6OfPLipTA",
      "include_colab_link": true
    },
    "kernelspec": {
      "name": "python3",
      "display_name": "Python 3"
    },
    "language_info": {
      "name": "python"
    }
  },
  "cells": [
    {
      "cell_type": "markdown",
      "metadata": {
        "id": "view-in-github",
        "colab_type": "text"
      },
      "source": [
        "<a href=\"https://colab.research.google.com/github/AdnanSakal/Task-Assignment/blob/main/Demo_Script.ipynb\" target=\"_parent\"><img src=\"https://colab.research.google.com/assets/colab-badge.svg\" alt=\"Open In Colab\"/></a>"
      ]
    },
    {
      "cell_type": "code",
      "source": [
        "from google.colab import files\n",
        "files.upload()"
      ],
      "metadata": {
        "id": "yNxnWIbQCe9V"
      },
      "execution_count": null,
      "outputs": []
    },
    {
      "cell_type": "code",
      "source": [
        "import re\n",
        "import nltk\n",
        "import string\n",
        "import joblib\n",
        "from nltk.corpus import stopwords"
      ],
      "metadata": {
        "id": "hB9Z0ihZDVF9"
      },
      "execution_count": 6,
      "outputs": []
    },
    {
      "cell_type": "code",
      "source": [
        "# Function to preprocess text data\n",
        "\n",
        "nltk.download('stopwords')\n",
        "stop_words = set(stopwords.words(\"english\"))\n",
        "\n",
        "def preprocess(text):\n",
        "  text = re.sub(r\"<.*?>\",' ',text)\n",
        "  text = text.translate(str.maketrans(\"\",\"\",string.punctuation))\n",
        "  text = re.sub(r\"\\d+\",\"\",text)\n",
        "  text = text.lower()\n",
        "  text = ' '.join([i for i in text.split() if i not in stop_words])\n",
        "  text = re.sub(r\"\\s+\", \" \", text).strip()\n",
        "  return text"
      ],
      "metadata": {
        "colab": {
          "base_uri": "https://localhost:8080/"
        },
        "id": "tskHxwPBDQqX",
        "outputId": "c8e137d2-ffd9-4c20-80d6-3c874eb4efca"
      },
      "execution_count": 7,
      "outputs": [
        {
          "output_type": "stream",
          "name": "stderr",
          "text": [
            "[nltk_data] Downloading package stopwords to /root/nltk_data...\n",
            "[nltk_data]   Package stopwords is already up-to-date!\n"
          ]
        }
      ]
    },
    {
      "cell_type": "code",
      "execution_count": 13,
      "metadata": {
        "colab": {
          "base_uri": "https://localhost:8080/"
        },
        "id": "Tqi0PmXLCT4P",
        "outputId": "59f23835-1d68-40ac-bc06-4e37823edef2"
      },
      "outputs": [
        {
          "output_type": "stream",
          "name": "stdout",
          "text": [
            "Enter a review: This movie was good!!!\n",
            "Predicted Sentiment: Positive\n"
          ]
        }
      ],
      "source": [
        "# Load the saved model\n",
        "loaded_model = joblib.load(\"/content/model_1 (logistic_reg).pkl\")\n",
        "\n",
        "\n",
        "user_input = input(\"Enter a review: \")\n",
        "process_user_input = preprocess(user_input)\n",
        "prediction = loaded_model.predict([process_user_input])[0]\n",
        "sentiment = \"Positive\" if prediction > 0 else \"Negative\"\n",
        "print(f\"Predicted Sentiment: {sentiment}\")"
      ]
    }
  ]
}